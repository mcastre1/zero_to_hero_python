{
 "cells": [
  {
   "cell_type": "code",
   "execution_count": 1,
   "id": "4b572684",
   "metadata": {},
   "outputs": [],
   "source": [
    "import smtplib"
   ]
  },
  {
   "cell_type": "code",
   "execution_count": 2,
   "id": "25d347cc",
   "metadata": {},
   "outputs": [
    {
     "data": {
      "text/plain": [
       "(250,\n",
       " b'smtp.gmail.com at your service, [73.20.100.253]\\nSIZE 35882577\\n8BITMIME\\nSTARTTLS\\nENHANCEDSTATUSCODES\\nPIPELINING\\nCHUNKING\\nSMTPUTF8')"
      ]
     },
     "execution_count": 2,
     "metadata": {},
     "output_type": "execute_result"
    }
   ],
   "source": [
    "smtp_object = smtplib.SMTP('smtp.gmail.com', 587)\n",
    "smtp_object.ehlo()"
   ]
  },
  {
   "cell_type": "code",
   "execution_count": 3,
   "id": "353cbfe6",
   "metadata": {},
   "outputs": [
    {
     "data": {
      "text/plain": [
       "(220, b'2.0.0 Ready to start TLS')"
      ]
     },
     "execution_count": 3,
     "metadata": {},
     "output_type": "execute_result"
    }
   ],
   "source": [
    "smtp_object.starttls()"
   ]
  },
  {
   "cell_type": "code",
   "execution_count": 4,
   "id": "752ac67e",
   "metadata": {},
   "outputs": [],
   "source": [
    "import getpass"
   ]
  },
  {
   "cell_type": "code",
   "execution_count": 5,
   "id": "0ba55d54",
   "metadata": {},
   "outputs": [
    {
     "name": "stdout",
     "output_type": "stream",
     "text": [
      "Email: ········\n",
      "Password: ········\n"
     ]
    }
   ],
   "source": [
    "email = getpass.getpass(\"Email: \")\n",
    "password = getpass.getpass(\"Password: \")"
   ]
  },
  {
   "cell_type": "code",
   "execution_count": 6,
   "id": "9fabc607",
   "metadata": {},
   "outputs": [
    {
     "data": {
      "text/plain": [
       "(235, b'2.7.0 Accepted')"
      ]
     },
     "execution_count": 6,
     "metadata": {},
     "output_type": "execute_result"
    }
   ],
   "source": [
    "smtp_object.login(email,password)"
   ]
  },
  {
   "cell_type": "code",
   "execution_count": 7,
   "id": "12ce7b19",
   "metadata": {},
   "outputs": [],
   "source": [
    "# Build message:"
   ]
  },
  {
   "cell_type": "code",
   "execution_count": 8,
   "id": "e2ef8a8b",
   "metadata": {},
   "outputs": [
    {
     "name": "stdout",
     "output_type": "stream",
     "text": [
      "Subject: Pink Panther\n",
      "MSG: Yellow Tiger!\n"
     ]
    },
    {
     "data": {
      "text/plain": [
       "{}"
      ]
     },
     "execution_count": 8,
     "metadata": {},
     "output_type": "execute_result"
    }
   ],
   "source": [
    "from_address = email\n",
    "to_address = email\n",
    "subject = input(\"Subject: \")\n",
    "msg = input(\"MSG: \")\n",
    "\n",
    "message = \"Subject: \" + subject + \"\\n\" + msg\n",
    "smtp_object.sendmail(from_address, to_address, message)"
   ]
  },
  {
   "cell_type": "code",
   "execution_count": 11,
   "id": "19eb2e53",
   "metadata": {},
   "outputs": [],
   "source": [
    "smtp_object.quit()\n",
    "import imaplib"
   ]
  },
  {
   "cell_type": "code",
   "execution_count": 10,
   "id": "e7d9969a",
   "metadata": {},
   "outputs": [],
   "source": [
    "M = imaplib.IMAP4_SSL('imap.gmail.com')\n"
   ]
  },
  {
   "cell_type": "code",
   "execution_count": 12,
   "id": "f6b9fe18",
   "metadata": {},
   "outputs": [
    {
     "data": {
      "text/plain": [
       "('OK', [b'spookiegamer@gmail.com authenticated (Success)'])"
      ]
     },
     "execution_count": 12,
     "metadata": {},
     "output_type": "execute_result"
    }
   ],
   "source": [
    "M.login(email, password)"
   ]
  },
  {
   "cell_type": "code",
   "execution_count": 13,
   "id": "32327e32",
   "metadata": {},
   "outputs": [
    {
     "data": {
      "text/plain": [
       "('OK',\n",
       " [b'(\\\\HasNoChildren) \"/\" \"INBOX\"',\n",
       "  b'(\\\\HasNoChildren) \"/\" \"Personal\"',\n",
       "  b'(\\\\HasNoChildren) \"/\" \"Receipts\"',\n",
       "  b'(\\\\HasNoChildren) \"/\" \"Work\"',\n",
       "  b'(\\\\HasChildren \\\\Noselect) \"/\" \"[Gmail]\"',\n",
       "  b'(\\\\All \\\\HasNoChildren) \"/\" \"[Gmail]/All Mail\"',\n",
       "  b'(\\\\Drafts \\\\HasNoChildren) \"/\" \"[Gmail]/Drafts\"',\n",
       "  b'(\\\\HasNoChildren \\\\Important) \"/\" \"[Gmail]/Important\"',\n",
       "  b'(\\\\HasNoChildren \\\\Sent) \"/\" \"[Gmail]/Sent Mail\"',\n",
       "  b'(\\\\HasNoChildren \\\\Junk) \"/\" \"[Gmail]/Spam\"',\n",
       "  b'(\\\\Flagged \\\\HasNoChildren) \"/\" \"[Gmail]/Starred\"',\n",
       "  b'(\\\\HasNoChildren \\\\Trash) \"/\" \"[Gmail]/Trash\"'])"
      ]
     },
     "execution_count": 13,
     "metadata": {},
     "output_type": "execute_result"
    }
   ],
   "source": [
    "M.list()"
   ]
  },
  {
   "cell_type": "code",
   "execution_count": 14,
   "id": "6bb9268c",
   "metadata": {},
   "outputs": [
    {
     "data": {
      "text/plain": [
       "('OK', [b'64'])"
      ]
     },
     "execution_count": 14,
     "metadata": {},
     "output_type": "execute_result"
    }
   ],
   "source": [
    "M.select('inbox')"
   ]
  },
  {
   "cell_type": "code",
   "execution_count": 17,
   "id": "a41a29d9",
   "metadata": {},
   "outputs": [],
   "source": [
    "typ, data = M.search(None, 'SUBJECT \"Pink Panther\"')"
   ]
  },
  {
   "cell_type": "code",
   "execution_count": 19,
   "id": "4dfae178",
   "metadata": {},
   "outputs": [
    {
     "data": {
      "text/plain": [
       "'OK'"
      ]
     },
     "execution_count": 19,
     "metadata": {},
     "output_type": "execute_result"
    }
   ],
   "source": [
    "typ"
   ]
  },
  {
   "cell_type": "code",
   "execution_count": 20,
   "id": "0d1ceae6",
   "metadata": {},
   "outputs": [
    {
     "data": {
      "text/plain": [
       "[b'64']"
      ]
     },
     "execution_count": 20,
     "metadata": {},
     "output_type": "execute_result"
    }
   ],
   "source": [
    "data"
   ]
  },
  {
   "cell_type": "code",
   "execution_count": 21,
   "id": "aea014ba",
   "metadata": {},
   "outputs": [],
   "source": [
    "email_id = data[0]"
   ]
  },
  {
   "cell_type": "code",
   "execution_count": 23,
   "id": "d5ddeb73",
   "metadata": {},
   "outputs": [],
   "source": [
    "result, email_data = M.fetch(email_id, '(RFC822)')"
   ]
  },
  {
   "cell_type": "code",
   "execution_count": 24,
   "id": "86927656",
   "metadata": {},
   "outputs": [
    {
     "data": {
      "text/plain": [
       "[(b'64 (RFC822 {563}',\n",
       "  b'Bcc: spookiegamer@gmail.com\\r\\nReturn-Path: <spookiegamer@gmail.com>\\r\\nReceived: from [192.168.1.14] (c-73-20-100-253.hsd1.ut.comcast.net. [73.20.100.253])\\r\\n        by smtp.gmail.com with ESMTPSA id x13sm5483782ile.9.2021.10.30.19.10.39\\r\\n        for <spookiegamer@gmail.com>\\r\\n        (version=TLS1_3 cipher=TLS_AES_256_GCM_SHA384 bits=256/256);\\r\\n        Sat, 30 Oct 2021 19:10:39 -0700 (PDT)\\r\\nMessage-ID: <617dfb1f.1c69fb81.c8725.27c0@mx.google.com>\\r\\nDate: Sat, 30 Oct 2021 19:10:39 -0700 (PDT)\\r\\nFrom: spookiegamer@gmail.com\\r\\nSubject: Pink Panther\\r\\n\\r\\nYellow Tiger!\\r\\n'),\n",
       " b')']"
      ]
     },
     "execution_count": 24,
     "metadata": {},
     "output_type": "execute_result"
    }
   ],
   "source": [
    "email_data"
   ]
  },
  {
   "cell_type": "code",
   "execution_count": 25,
   "id": "6f437e47",
   "metadata": {},
   "outputs": [],
   "source": [
    "#email data"
   ]
  },
  {
   "cell_type": "code",
   "execution_count": 30,
   "id": "baad1aaf",
   "metadata": {},
   "outputs": [
    {
     "data": {
      "text/plain": [
       "'Bcc: spookiegamer@gmail.com\\r\\nReturn-Path: <spookiegamer@gmail.com>\\r\\nReceived: from [192.168.1.14] (c-73-20-100-253.hsd1.ut.comcast.net. [73.20.100.253])\\r\\n        by smtp.gmail.com with ESMTPSA id x13sm5483782ile.9.2021.10.30.19.10.39\\r\\n        for <spookiegamer@gmail.com>\\r\\n        (version=TLS1_3 cipher=TLS_AES_256_GCM_SHA384 bits=256/256);\\r\\n        Sat, 30 Oct 2021 19:10:39 -0700 (PDT)\\r\\nMessage-ID: <617dfb1f.1c69fb81.c8725.27c0@mx.google.com>\\r\\nDate: Sat, 30 Oct 2021 19:10:39 -0700 (PDT)\\r\\nFrom: spookiegamer@gmail.com\\r\\nSubject: Pink Panther\\r\\n\\r\\nYellow Tiger!\\r\\n'"
      ]
     },
     "execution_count": 30,
     "metadata": {},
     "output_type": "execute_result"
    }
   ],
   "source": [
    "raw_email = email_data[0][1]\n",
    "raw_email_string = raw_email.decode('utf-8')\n",
    "raw_email_string"
   ]
  },
  {
   "cell_type": "code",
   "execution_count": 27,
   "id": "733aa0d8",
   "metadata": {},
   "outputs": [],
   "source": [
    "import email"
   ]
  },
  {
   "cell_type": "code",
   "execution_count": 28,
   "id": "48fefa88",
   "metadata": {},
   "outputs": [],
   "source": [
    "email_message = email.message_from_string(raw_email_string)"
   ]
  },
  {
   "cell_type": "code",
   "execution_count": 29,
   "id": "4785433c",
   "metadata": {},
   "outputs": [
    {
     "data": {
      "text/plain": [
       "<email.message.Message at 0x1a411a91850>"
      ]
     },
     "execution_count": 29,
     "metadata": {},
     "output_type": "execute_result"
    }
   ],
   "source": [
    "email_message"
   ]
  },
  {
   "cell_type": "code",
   "execution_count": 31,
   "id": "18b43d0e",
   "metadata": {},
   "outputs": [
    {
     "name": "stdout",
     "output_type": "stream",
     "text": [
      "b'Yellow Tiger!\\r\\n'\n"
     ]
    }
   ],
   "source": [
    "for part in email_message.walk():\n",
    "    if part.get_content_type() == 'text/plain':\n",
    "        body = part.get_payload(decode=True)\n",
    "        print(body)"
   ]
  },
  {
   "cell_type": "code",
   "execution_count": null,
   "id": "f342e982",
   "metadata": {},
   "outputs": [],
   "source": []
  }
 ],
 "metadata": {
  "kernelspec": {
   "display_name": "Python 3",
   "language": "python",
   "name": "python3"
  },
  "language_info": {
   "codemirror_mode": {
    "name": "ipython",
    "version": 3
   },
   "file_extension": ".py",
   "mimetype": "text/x-python",
   "name": "python",
   "nbconvert_exporter": "python",
   "pygments_lexer": "ipython3",
   "version": "3.8.8"
  }
 },
 "nbformat": 4,
 "nbformat_minor": 5
}
