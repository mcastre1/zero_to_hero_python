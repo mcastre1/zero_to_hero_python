{
 "cells": [
  {
   "cell_type": "code",
   "execution_count": 6,
   "id": "5a1c3f7e",
   "metadata": {},
   "outputs": [],
   "source": [
    "import requests # Library used to get html document."
   ]
  },
  {
   "cell_type": "code",
   "execution_count": 7,
   "id": "92003312",
   "metadata": {},
   "outputs": [],
   "source": [
    "# Response from the website requested.\n",
    "result = requests.get(\"https://example.com/\")"
   ]
  },
  {
   "cell_type": "code",
   "execution_count": 12,
   "id": "11553f09",
   "metadata": {},
   "outputs": [],
   "source": [
    "# We can use result.text to look at all the html:\n",
    "# But its not pretty, so we use bs4\n",
    "# or beautiful soup\n",
    "import bs4\n",
    "\n",
    "# Pass in text from request\n",
    "soup = bs4.BeautifulSoup(result.text, \"lxml\")"
   ]
  },
  {
   "cell_type": "code",
   "execution_count": 14,
   "id": "75af3474",
   "metadata": {},
   "outputs": [
    {
     "data": {
      "text/plain": [
       "[<title>Example Domain</title>]"
      ]
     },
     "execution_count": 14,
     "metadata": {},
     "output_type": "execute_result"
    }
   ],
   "source": [
    "# If we call soup, now we can see a formatted html doc.\n",
    "# We can call the title html tag.\n",
    "# This returns a list of all title tags in that page.\n",
    "soup.select(\"title\")"
   ]
  },
  {
   "cell_type": "code",
   "execution_count": 15,
   "id": "7c1e46cb",
   "metadata": {},
   "outputs": [
    {
     "data": {
      "text/plain": [
       "'Example Domain'"
      ]
     },
     "execution_count": 15,
     "metadata": {},
     "output_type": "execute_result"
    }
   ],
   "source": [
    "# If you want to just get the actual name, then\n",
    "# you can do the following:\n",
    "soup.select('title')[0].getText()"
   ]
  },
  {
   "cell_type": "code",
   "execution_count": null,
   "id": "f2617e56",
   "metadata": {},
   "outputs": [],
   "source": []
  }
 ],
 "metadata": {
  "kernelspec": {
   "display_name": "Python 3",
   "language": "python",
   "name": "python3"
  },
  "language_info": {
   "codemirror_mode": {
    "name": "ipython",
    "version": 3
   },
   "file_extension": ".py",
   "mimetype": "text/x-python",
   "name": "python",
   "nbconvert_exporter": "python",
   "pygments_lexer": "ipython3",
   "version": "3.8.8"
  }
 },
 "nbformat": 4,
 "nbformat_minor": 5
}
