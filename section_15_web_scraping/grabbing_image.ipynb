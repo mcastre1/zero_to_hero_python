{
 "cells": [
  {
   "cell_type": "code",
   "execution_count": 1,
   "id": "a8f977f8",
   "metadata": {},
   "outputs": [],
   "source": [
    "import requests"
   ]
  },
  {
   "cell_type": "code",
   "execution_count": 2,
   "id": "eb983fa8",
   "metadata": {},
   "outputs": [],
   "source": [
    "import bs4"
   ]
  },
  {
   "cell_type": "code",
   "execution_count": 6,
   "id": "9cc18920",
   "metadata": {},
   "outputs": [],
   "source": [
    "# Request html document\n",
    "result = requests.get(\"https://en.wikipedia.org/wiki/Deep_Blue_(chess_computer)\")"
   ]
  },
  {
   "cell_type": "code",
   "execution_count": 7,
   "id": "12a56523",
   "metadata": {},
   "outputs": [],
   "source": [
    "# Use the received html doc and create a beautiful soup object\n",
    "soup = bs4.BeautifulSoup(result.text, \"lxml\")"
   ]
  },
  {
   "cell_type": "code",
   "execution_count": 9,
   "id": "a586a1c9",
   "metadata": {},
   "outputs": [],
   "source": [
    "# You can look at the contents of the above soup object.\n",
    "soup"
   ]
  },
  {
   "cell_type": "code",
   "execution_count": null,
   "id": "4307b325",
   "metadata": {},
   "outputs": [],
   "source": [
    "# With the inspect tools in google chrome,\n",
    "# we found that we can use the img tag\n",
    "# and index 0 to get our desired image."
   ]
  },
  {
   "cell_type": "code",
   "execution_count": 50,
   "id": "a348a104",
   "metadata": {},
   "outputs": [
    {
     "data": {
      "text/plain": [
       "<img alt=\"Deep Blue.jpg\" data-file-height=\"601\" data-file-width=\"400\" decoding=\"async\" height=\"331\" src=\"//upload.wikimedia.org/wikipedia/commons/thumb/b/be/Deep_Blue.jpg/220px-Deep_Blue.jpg\" srcset=\"//upload.wikimedia.org/wikipedia/commons/thumb/b/be/Deep_Blue.jpg/330px-Deep_Blue.jpg 1.5x, //upload.wikimedia.org/wikipedia/commons/b/be/Deep_Blue.jpg 2x\" width=\"220\"/>"
      ]
     },
     "execution_count": 50,
     "metadata": {},
     "output_type": "execute_result"
    }
   ],
   "source": [
    "# Here we keep all the image information.\n",
    "image = soup.select('img')[0]\n"
   ]
  },
  {
   "cell_type": "code",
   "execution_count": 52,
   "id": "93666a2a",
   "metadata": {},
   "outputs": [
    {
     "name": "stdout",
     "output_type": "stream",
     "text": [
      "//upload.wikimedia.org/wikipedia/commons/thumb/b/be/Deep_Blue.jpg/220px-Deep_Blue.jpg\n"
     ]
    }
   ],
   "source": [
    "# we can use the above image object as a dictionary\n",
    "# to be able to call for the src attribute in \n",
    "# the image tag\n",
    "print(image.get(\"src\"))"
   ]
  },
  {
   "cell_type": "code",
   "execution_count": 54,
   "id": "1b9a9019",
   "metadata": {},
   "outputs": [],
   "source": [
    "# Now we can request said image \n",
    "# like this:\n",
    "\n",
    "image_link = requests.get(f\"https:{image.get('src')}\")"
   ]
  },
  {
   "cell_type": "code",
   "execution_count": 56,
   "id": "c3f50f41",
   "metadata": {},
   "outputs": [],
   "source": [
    "# To download it, we open a new file\n",
    "# with the write binary option, and \n",
    "# we write the image_link.content into the file\n",
    "f = open(\"my_image_scrapping.jpg\", \"wb\")"
   ]
  },
  {
   "cell_type": "code",
   "execution_count": 57,
   "id": "5d82e24e",
   "metadata": {},
   "outputs": [
    {
     "data": {
      "text/plain": [
       "16806"
      ]
     },
     "execution_count": 57,
     "metadata": {},
     "output_type": "execute_result"
    }
   ],
   "source": [
    "f.write(image_link.content)"
   ]
  },
  {
   "cell_type": "code",
   "execution_count": 58,
   "id": "e7c1dab0",
   "metadata": {},
   "outputs": [],
   "source": [
    "f.close()"
   ]
  },
  {
   "cell_type": "code",
   "execution_count": 59,
   "id": "7bf2d1d4",
   "metadata": {},
   "outputs": [],
   "source": [
    "# DONE"
   ]
  },
  {
   "cell_type": "code",
   "execution_count": null,
   "id": "3f054d0d",
   "metadata": {},
   "outputs": [],
   "source": []
  }
 ],
 "metadata": {
  "kernelspec": {
   "display_name": "Python 3",
   "language": "python",
   "name": "python3"
  },
  "language_info": {
   "codemirror_mode": {
    "name": "ipython",
    "version": 3
   },
   "file_extension": ".py",
   "mimetype": "text/x-python",
   "name": "python",
   "nbconvert_exporter": "python",
   "pygments_lexer": "ipython3",
   "version": "3.8.8"
  }
 },
 "nbformat": 4,
 "nbformat_minor": 5
}
