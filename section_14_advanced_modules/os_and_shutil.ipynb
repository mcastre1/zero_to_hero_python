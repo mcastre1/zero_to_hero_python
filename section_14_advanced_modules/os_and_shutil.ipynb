{
 "cells": [
  {
   "cell_type": "code",
   "execution_count": 1,
   "id": "24ae1e87",
   "metadata": {},
   "outputs": [
    {
     "data": {
      "text/plain": [
       "'C:\\\\Users\\\\migue\\\\Desktop\\\\zero_to_hero_python\\\\section_14_advanced_modules'"
      ]
     },
     "execution_count": 1,
     "metadata": {},
     "output_type": "execute_result"
    }
   ],
   "source": [
    "pwd"
   ]
  },
  {
   "cell_type": "code",
   "execution_count": 2,
   "id": "fbd01f7f",
   "metadata": {},
   "outputs": [],
   "source": [
    "f = open('practice.txt', 'w+')"
   ]
  },
  {
   "cell_type": "code",
   "execution_count": 3,
   "id": "ebe976ae",
   "metadata": {},
   "outputs": [],
   "source": [
    "f.write('This is a test string')\n",
    "f.close()"
   ]
  },
  {
   "cell_type": "code",
   "execution_count": 4,
   "id": "01e83b23",
   "metadata": {},
   "outputs": [
    {
     "data": {
      "text/plain": [
       "'C:\\\\Users\\\\migue\\\\Desktop\\\\zero_to_hero_python\\\\section_14_advanced_modules'"
      ]
     },
     "execution_count": 4,
     "metadata": {},
     "output_type": "execute_result"
    }
   ],
   "source": [
    "import os\n",
    "\n",
    "os.getcwd()"
   ]
  },
  {
   "cell_type": "code",
   "execution_count": 5,
   "id": "71c7c267",
   "metadata": {},
   "outputs": [
    {
     "data": {
      "text/plain": [
       "['.ipynb_checkpoints',\n",
       " 'collections.ipynb',\n",
       " 'os_and_shutil.ipynb',\n",
       " 'practice.txt']"
      ]
     },
     "execution_count": 5,
     "metadata": {},
     "output_type": "execute_result"
    }
   ],
   "source": [
    "os.listdir()"
   ]
  },
  {
   "cell_type": "code",
   "execution_count": 6,
   "id": "87469691",
   "metadata": {},
   "outputs": [
    {
     "data": {
      "text/plain": [
       "['All Users', 'Default', 'Default User', 'desktop.ini', 'migue', 'Public']"
      ]
     },
     "execution_count": 6,
     "metadata": {},
     "output_type": "execute_result"
    }
   ],
   "source": [
    "os.listdir('C:\\\\Users')"
   ]
  },
  {
   "cell_type": "code",
   "execution_count": 11,
   "id": "b5d998e0",
   "metadata": {},
   "outputs": [
    {
     "data": {
      "text/plain": [
       "'C:\\\\Users\\\\migue\\\\practice.txt'"
      ]
     },
     "execution_count": 11,
     "metadata": {},
     "output_type": "execute_result"
    }
   ],
   "source": [
    "import shutil\n",
    "\n",
    "# Source to destination\n",
    "shutil.move('practice.txt', 'C:\\\\Users\\\\migue')"
   ]
  },
  {
   "cell_type": "code",
   "execution_count": null,
   "id": "bfec7b3f",
   "metadata": {},
   "outputs": [],
   "source": [
    "os.listdir('C:\\\\Users\\\\migue')"
   ]
  },
  {
   "cell_type": "code",
   "execution_count": 12,
   "id": "a3550d8f",
   "metadata": {},
   "outputs": [],
   "source": [
    "# os.unlink(path) deletes single file at the path\n",
    "# os.rmdir(path) deletes folder, must be empty\n",
    "# shutil.rmtree(path) # Dangerous!!!\n",
    "\n",
    "os.unlink('C:\\\\Users\\\\migue\\\\practice.txt')"
   ]
  },
  {
   "cell_type": "code",
   "execution_count": null,
   "id": "07c6291b",
   "metadata": {},
   "outputs": [],
   "source": [
    "#for folder, sub_folders, files in os.walk('C:\\\\Users\\\\migue'):\n",
    " #   print(f\"Currently looking at {folder}\")\n",
    "  #  print(\"\\n\")\n",
    "   # print('The subfolders are:')\n",
    "    #for sub_folders in sub_folders:\n",
    "     #   print(f\"Subfolder: {sub_folders}\")\n",
    "        \n",
    "    #print(\"\\n\")\n",
    "    #print(\"The files are:\")\n",
    "    #for f in files:\n",
    "     #   print(f\" File: {f}\")\n",
    "    #print(\"\\n\")"
   ]
  },
  {
   "cell_type": "code",
   "execution_count": null,
   "id": "fba6f6f5",
   "metadata": {},
   "outputs": [],
   "source": []
  }
 ],
 "metadata": {
  "kernelspec": {
   "display_name": "Python 3",
   "language": "python",
   "name": "python3"
  },
  "language_info": {
   "codemirror_mode": {
    "name": "ipython",
    "version": 3
   },
   "file_extension": ".py",
   "mimetype": "text/x-python",
   "name": "python",
   "nbconvert_exporter": "python",
   "pygments_lexer": "ipython3",
   "version": "3.8.8"
  }
 },
 "nbformat": 4,
 "nbformat_minor": 5
}
