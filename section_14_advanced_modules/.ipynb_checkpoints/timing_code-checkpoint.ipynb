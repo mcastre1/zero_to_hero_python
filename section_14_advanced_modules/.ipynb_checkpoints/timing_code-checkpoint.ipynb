{
 "cells": [
  {
   "cell_type": "code",
   "execution_count": 1,
   "id": "ddb34f79",
   "metadata": {},
   "outputs": [
    {
     "data": {
      "text/plain": [
       "3"
      ]
     },
     "execution_count": 1,
     "metadata": {},
     "output_type": "execute_result"
    }
   ],
   "source": [
    "3"
   ]
  },
  {
   "cell_type": "code",
   "execution_count": 2,
   "id": "1dc56f6c",
   "metadata": {},
   "outputs": [
    {
     "data": {
      "text/plain": [
       "['1', '2', '3']"
      ]
     },
     "execution_count": 2,
     "metadata": {},
     "output_type": "execute_result"
    }
   ],
   "source": [
    "['1','2','3']"
   ]
  },
  {
   "cell_type": "code",
   "execution_count": 3,
   "id": "da3be633",
   "metadata": {},
   "outputs": [],
   "source": [
    "def func_one(n):\n",
    "    return [str(num) for num in range(n)]"
   ]
  },
  {
   "cell_type": "code",
   "execution_count": 4,
   "id": "17063d68",
   "metadata": {},
   "outputs": [
    {
     "data": {
      "text/plain": [
       "['0', '1', '2', '3', '4', '5', '6', '7', '8', '9']"
      ]
     },
     "execution_count": 4,
     "metadata": {},
     "output_type": "execute_result"
    }
   ],
   "source": [
    "func_one(10)"
   ]
  },
  {
   "cell_type": "code",
   "execution_count": 5,
   "id": "e544fb22",
   "metadata": {},
   "outputs": [],
   "source": [
    "def func_two(n):\n",
    "    return list(map(str, range(n)))"
   ]
  },
  {
   "cell_type": "code",
   "execution_count": 6,
   "id": "a6c735e1",
   "metadata": {},
   "outputs": [
    {
     "data": {
      "text/plain": [
       "['0', '1', '2', '3', '4', '5', '6', '7', '8', '9']"
      ]
     },
     "execution_count": 6,
     "metadata": {},
     "output_type": "execute_result"
    }
   ],
   "source": [
    "func_two(10)"
   ]
  },
  {
   "cell_type": "code",
   "execution_count": 7,
   "id": "06d8234c",
   "metadata": {},
   "outputs": [],
   "source": [
    "import time"
   ]
  },
  {
   "cell_type": "code",
   "execution_count": 8,
   "id": "1838b083",
   "metadata": {},
   "outputs": [
    {
     "name": "stdout",
     "output_type": "stream",
     "text": [
      "0.22965598106384277\n"
     ]
    }
   ],
   "source": [
    "# CURRENT TIME BEFORE\n",
    "start_time = time.time()\n",
    "\n",
    "# RUN CODE\n",
    "func_one(1000000)\n",
    "\n",
    "# CURRENT TIME AFTER\n",
    "end_time = time.time()\n",
    "\n",
    "# ELAPSED TIME\n",
    "elapsed_time = end_time - start_time\n",
    "\n",
    "print(elapsed_time)"
   ]
  },
  {
   "cell_type": "code",
   "execution_count": 9,
   "id": "03eaaaac",
   "metadata": {},
   "outputs": [
    {
     "name": "stdout",
     "output_type": "stream",
     "text": [
      "0.17060232162475586\n"
     ]
    }
   ],
   "source": [
    "# CURRENT TIME BEFORE\n",
    "start_time = time.time()\n",
    "\n",
    "# RUN CODE\n",
    "func_two(1000000)\n",
    "\n",
    "# CURRENT TIME AFTER\n",
    "end_time = time.time()\n",
    "\n",
    "# ELAPSED TIME\n",
    "elapsed_time = end_time - start_time\n",
    "\n",
    "print(elapsed_time)"
   ]
  },
  {
   "cell_type": "code",
   "execution_count": 10,
   "id": "524bd6eb",
   "metadata": {},
   "outputs": [],
   "source": [
    "import timeit"
   ]
  },
  {
   "cell_type": "code",
   "execution_count": 11,
   "id": "0021fbda",
   "metadata": {},
   "outputs": [],
   "source": [
    "stmt = '''\n",
    "func_one(100)\n",
    "'''"
   ]
  },
  {
   "cell_type": "code",
   "execution_count": 12,
   "id": "c465540f",
   "metadata": {},
   "outputs": [],
   "source": [
    "setup = '''\n",
    "def func_one(n):\n",
    "    return [str(num) for num in range(n)]\n",
    "'''"
   ]
  },
  {
   "cell_type": "code",
   "execution_count": 17,
   "id": "83ba701f",
   "metadata": {},
   "outputs": [
    {
     "data": {
      "text/plain": [
       "16.748158200000006"
      ]
     },
     "execution_count": 17,
     "metadata": {},
     "output_type": "execute_result"
    }
   ],
   "source": [
    "timeit.timeit(stmt, setup, number=1000000)"
   ]
  },
  {
   "cell_type": "code",
   "execution_count": 14,
   "id": "b023329c",
   "metadata": {},
   "outputs": [],
   "source": [
    "stmt2 = '''\n",
    "func_two(100)\n",
    "'''"
   ]
  },
  {
   "cell_type": "code",
   "execution_count": 15,
   "id": "f662e7c9",
   "metadata": {},
   "outputs": [],
   "source": [
    "setup2 = '''\n",
    "def func_two(n):\n",
    "    return list(map(str, range(n)))\n",
    "'''"
   ]
  },
  {
   "cell_type": "code",
   "execution_count": 18,
   "id": "5a72bac4",
   "metadata": {},
   "outputs": [
    {
     "data": {
      "text/plain": [
       "13.555701099999993"
      ]
     },
     "execution_count": 18,
     "metadata": {},
     "output_type": "execute_result"
    }
   ],
   "source": [
    "timeit.timeit(stmt2, setup2, number=1000000)"
   ]
  },
  {
   "cell_type": "code",
   "execution_count": null,
   "id": "aab5a18d",
   "metadata": {},
   "outputs": [],
   "source": []
  },
  {
   "cell_type": "code",
   "execution_count": null,
   "id": "5178a3c9",
   "metadata": {},
   "outputs": [],
   "source": []
  },
  {
   "cell_type": "code",
   "execution_count": 19,
   "id": "02b7c73c",
   "metadata": {},
   "outputs": [],
   "source": [
    "# In jupyter notebook"
   ]
  },
  {
   "cell_type": "code",
   "execution_count": 20,
   "id": "c1f06c1d",
   "metadata": {},
   "outputs": [
    {
     "name": "stdout",
     "output_type": "stream",
     "text": [
      "17.2 µs ± 484 ns per loop (mean ± std. dev. of 7 runs, 100000 loops each)\n"
     ]
    }
   ],
   "source": [
    "%%timeit\n",
    "func_one(100)"
   ]
  },
  {
   "cell_type": "code",
   "execution_count": 21,
   "id": "6cee3428",
   "metadata": {},
   "outputs": [
    {
     "name": "stdout",
     "output_type": "stream",
     "text": [
      "13.5 µs ± 47.8 ns per loop (mean ± std. dev. of 7 runs, 100000 loops each)\n"
     ]
    }
   ],
   "source": [
    "%%timeit\n",
    "func_two(100)"
   ]
  },
  {
   "cell_type": "code",
   "execution_count": null,
   "id": "09130e52",
   "metadata": {},
   "outputs": [],
   "source": []
  }
 ],
 "metadata": {
  "kernelspec": {
   "display_name": "Python 3",
   "language": "python",
   "name": "python3"
  },
  "language_info": {
   "codemirror_mode": {
    "name": "ipython",
    "version": 3
   },
   "file_extension": ".py",
   "mimetype": "text/x-python",
   "name": "python",
   "nbconvert_exporter": "python",
   "pygments_lexer": "ipython3",
   "version": "3.8.8"
  }
 },
 "nbformat": 4,
 "nbformat_minor": 5
}
