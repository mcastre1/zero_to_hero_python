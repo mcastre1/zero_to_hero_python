{
 "cells": [
  {
   "cell_type": "code",
   "execution_count": 1,
   "id": "201f6596",
   "metadata": {},
   "outputs": [],
   "source": [
    "from collections import Counter"
   ]
  },
  {
   "cell_type": "code",
   "execution_count": 2,
   "id": "0f185532",
   "metadata": {},
   "outputs": [],
   "source": [
    "mylist = [1,1,1,1,1,2,3,2,2,2,2,2,3,3,3,3,3,4]"
   ]
  },
  {
   "cell_type": "code",
   "execution_count": 3,
   "id": "f9b2c5d3",
   "metadata": {},
   "outputs": [
    {
     "data": {
      "text/plain": [
       "Counter({1: 5, 2: 6, 3: 6, 4: 1})"
      ]
     },
     "execution_count": 3,
     "metadata": {},
     "output_type": "execute_result"
    }
   ],
   "source": [
    "Counter(mylist)"
   ]
  },
  {
   "cell_type": "code",
   "execution_count": 4,
   "id": "c64e5ac6",
   "metadata": {},
   "outputs": [],
   "source": [
    "mylist = ['a','a',10,10,10]"
   ]
  },
  {
   "cell_type": "code",
   "execution_count": 5,
   "id": "0a937ff9",
   "metadata": {},
   "outputs": [
    {
     "data": {
      "text/plain": [
       "Counter({'a': 2, 10: 3})"
      ]
     },
     "execution_count": 5,
     "metadata": {},
     "output_type": "execute_result"
    }
   ],
   "source": [
    "Counter(mylist)"
   ]
  },
  {
   "cell_type": "code",
   "execution_count": 6,
   "id": "8f053291",
   "metadata": {},
   "outputs": [
    {
     "data": {
      "text/plain": [
       "Counter({'a': 4, 'b': 3, 's': 2, 'g': 1, 'h': 2, 'd': 1, 'e': 1})"
      ]
     },
     "execution_count": 6,
     "metadata": {},
     "output_type": "execute_result"
    }
   ],
   "source": [
    "Counter('aaaabbbsgshdhe')"
   ]
  },
  {
   "cell_type": "code",
   "execution_count": 7,
   "id": "47f4ea07",
   "metadata": {},
   "outputs": [],
   "source": [
    "sentence = \"How many times does each word show up in this sentence with a word\""
   ]
  },
  {
   "cell_type": "code",
   "execution_count": 9,
   "id": "876c5c20",
   "metadata": {},
   "outputs": [
    {
     "data": {
      "text/plain": [
       "Counter({'how': 1,\n",
       "         'many': 1,\n",
       "         'times': 1,\n",
       "         'does': 1,\n",
       "         'each': 1,\n",
       "         'word': 2,\n",
       "         'show': 1,\n",
       "         'up': 1,\n",
       "         'in': 1,\n",
       "         'this': 1,\n",
       "         'sentence': 1,\n",
       "         'with': 1,\n",
       "         'a': 1})"
      ]
     },
     "execution_count": 9,
     "metadata": {},
     "output_type": "execute_result"
    }
   ],
   "source": [
    "Counter(sentence.lower().split())"
   ]
  },
  {
   "cell_type": "code",
   "execution_count": 10,
   "id": "4ca90c0c",
   "metadata": {},
   "outputs": [],
   "source": [
    "letters = 'aaaabbbbcccdddddddd'"
   ]
  },
  {
   "cell_type": "code",
   "execution_count": 12,
   "id": "2c68c7b4",
   "metadata": {},
   "outputs": [],
   "source": [
    "c = Counter(letters)"
   ]
  },
  {
   "cell_type": "code",
   "execution_count": 13,
   "id": "97af1eb3",
   "metadata": {},
   "outputs": [
    {
     "data": {
      "text/plain": [
       "Counter({'a': 4, 'b': 4, 'c': 3, 'd': 8})"
      ]
     },
     "execution_count": 13,
     "metadata": {},
     "output_type": "execute_result"
    }
   ],
   "source": [
    "c"
   ]
  },
  {
   "cell_type": "code",
   "execution_count": 14,
   "id": "c7150d0f",
   "metadata": {},
   "outputs": [
    {
     "data": {
      "text/plain": [
       "[('d', 8), ('a', 4), ('b', 4), ('c', 3)]"
      ]
     },
     "execution_count": 14,
     "metadata": {},
     "output_type": "execute_result"
    }
   ],
   "source": [
    "c.most_common()"
   ]
  },
  {
   "cell_type": "code",
   "execution_count": 15,
   "id": "38b07c0a",
   "metadata": {},
   "outputs": [
    {
     "data": {
      "text/plain": [
       "Counter({'a': 4, 'b': 4, 'c': 3, 'd': 8})"
      ]
     },
     "execution_count": 15,
     "metadata": {},
     "output_type": "execute_result"
    }
   ],
   "source": [
    "c"
   ]
  },
  {
   "cell_type": "code",
   "execution_count": 16,
   "id": "bb0dbbed",
   "metadata": {},
   "outputs": [
    {
     "data": {
      "text/plain": [
       "['a', 'b', 'c', 'd']"
      ]
     },
     "execution_count": 16,
     "metadata": {},
     "output_type": "execute_result"
    }
   ],
   "source": [
    "list(c)"
   ]
  },
  {
   "cell_type": "code",
   "execution_count": 17,
   "id": "f575b57e",
   "metadata": {},
   "outputs": [],
   "source": [
    "from collections import defaultdict"
   ]
  },
  {
   "cell_type": "code",
   "execution_count": 18,
   "id": "8f9847e9",
   "metadata": {},
   "outputs": [],
   "source": [
    "d = {'a':10}"
   ]
  },
  {
   "cell_type": "code",
   "execution_count": 19,
   "id": "9c12da5f",
   "metadata": {},
   "outputs": [
    {
     "data": {
      "text/plain": [
       "{'a': 10}"
      ]
     },
     "execution_count": 19,
     "metadata": {},
     "output_type": "execute_result"
    }
   ],
   "source": [
    "d"
   ]
  },
  {
   "cell_type": "code",
   "execution_count": 20,
   "id": "dd31602e",
   "metadata": {},
   "outputs": [
    {
     "data": {
      "text/plain": [
       "10"
      ]
     },
     "execution_count": 20,
     "metadata": {},
     "output_type": "execute_result"
    }
   ],
   "source": [
    "d['a']"
   ]
  },
  {
   "cell_type": "code",
   "execution_count": 21,
   "id": "2cabad01",
   "metadata": {},
   "outputs": [
    {
     "ename": "KeyError",
     "evalue": "'WRONG'",
     "output_type": "error",
     "traceback": [
      "\u001b[1;31m---------------------------------------------------------------------------\u001b[0m",
      "\u001b[1;31mKeyError\u001b[0m                                  Traceback (most recent call last)",
      "\u001b[1;32m<ipython-input-21-4006d83773ae>\u001b[0m in \u001b[0;36m<module>\u001b[1;34m\u001b[0m\n\u001b[1;32m----> 1\u001b[1;33m \u001b[0md\u001b[0m\u001b[1;33m[\u001b[0m\u001b[1;34m'WRONG'\u001b[0m\u001b[1;33m]\u001b[0m\u001b[1;33m\u001b[0m\u001b[1;33m\u001b[0m\u001b[0m\n\u001b[0m",
      "\u001b[1;31mKeyError\u001b[0m: 'WRONG'"
     ]
    }
   ],
   "source": [
    "d['WRONG']"
   ]
  },
  {
   "cell_type": "code",
   "execution_count": 22,
   "id": "8e5411c9",
   "metadata": {},
   "outputs": [],
   "source": [
    "d = defaultdict(lambda: 0)"
   ]
  },
  {
   "cell_type": "code",
   "execution_count": 23,
   "id": "5b065b02",
   "metadata": {},
   "outputs": [],
   "source": [
    "d['correct'] = 100"
   ]
  },
  {
   "cell_type": "code",
   "execution_count": 24,
   "id": "5fef5d07",
   "metadata": {},
   "outputs": [
    {
     "data": {
      "text/plain": [
       "defaultdict(<function __main__.<lambda>()>, {'correct': 100})"
      ]
     },
     "execution_count": 24,
     "metadata": {},
     "output_type": "execute_result"
    }
   ],
   "source": [
    "d"
   ]
  },
  {
   "cell_type": "code",
   "execution_count": 25,
   "id": "73a23765",
   "metadata": {},
   "outputs": [
    {
     "data": {
      "text/plain": [
       "0"
      ]
     },
     "execution_count": 25,
     "metadata": {},
     "output_type": "execute_result"
    }
   ],
   "source": [
    "d['WRONG KEY!']"
   ]
  },
  {
   "cell_type": "code",
   "execution_count": 26,
   "id": "024c4768",
   "metadata": {},
   "outputs": [
    {
     "data": {
      "text/plain": [
       "defaultdict(<function __main__.<lambda>()>, {'correct': 100, 'WRONG KEY!': 0})"
      ]
     },
     "execution_count": 26,
     "metadata": {},
     "output_type": "execute_result"
    }
   ],
   "source": [
    "d"
   ]
  },
  {
   "cell_type": "code",
   "execution_count": 27,
   "id": "03aa1a2f",
   "metadata": {},
   "outputs": [],
   "source": [
    "mytuple = (10,20,30)"
   ]
  },
  {
   "cell_type": "code",
   "execution_count": 28,
   "id": "6ee53542",
   "metadata": {},
   "outputs": [
    {
     "data": {
      "text/plain": [
       "10"
      ]
     },
     "execution_count": 28,
     "metadata": {},
     "output_type": "execute_result"
    }
   ],
   "source": [
    "mytuple[0]"
   ]
  },
  {
   "cell_type": "code",
   "execution_count": 29,
   "id": "cd17e318",
   "metadata": {},
   "outputs": [],
   "source": [
    "from collections import namedtuple"
   ]
  },
  {
   "cell_type": "code",
   "execution_count": 30,
   "id": "602e292f",
   "metadata": {},
   "outputs": [],
   "source": [
    "Dog = namedtuple('Dog',['age','breed','name'])"
   ]
  },
  {
   "cell_type": "code",
   "execution_count": 31,
   "id": "7c9d4bcc",
   "metadata": {},
   "outputs": [
    {
     "data": {
      "text/plain": [
       "__main__.Dog"
      ]
     },
     "execution_count": 31,
     "metadata": {},
     "output_type": "execute_result"
    }
   ],
   "source": [
    "Dog"
   ]
  },
  {
   "cell_type": "code",
   "execution_count": 32,
   "id": "4eb183b7",
   "metadata": {},
   "outputs": [],
   "source": [
    "sammy = Dog(5, 'Husky','Sam')"
   ]
  },
  {
   "cell_type": "code",
   "execution_count": 33,
   "id": "2439d7b5",
   "metadata": {},
   "outputs": [
    {
     "data": {
      "text/plain": [
       "__main__.Dog"
      ]
     },
     "execution_count": 33,
     "metadata": {},
     "output_type": "execute_result"
    }
   ],
   "source": [
    "type(sammy)"
   ]
  },
  {
   "cell_type": "code",
   "execution_count": 34,
   "id": "be9beafb",
   "metadata": {},
   "outputs": [
    {
     "data": {
      "text/plain": [
       "Dog(age=5, breed='Husky', name='Sam')"
      ]
     },
     "execution_count": 34,
     "metadata": {},
     "output_type": "execute_result"
    }
   ],
   "source": [
    "sammy"
   ]
  },
  {
   "cell_type": "code",
   "execution_count": 35,
   "id": "385aaefe",
   "metadata": {},
   "outputs": [
    {
     "data": {
      "text/plain": [
       "5"
      ]
     },
     "execution_count": 35,
     "metadata": {},
     "output_type": "execute_result"
    }
   ],
   "source": [
    "sammy.age"
   ]
  },
  {
   "cell_type": "code",
   "execution_count": 36,
   "id": "33f1e21d",
   "metadata": {},
   "outputs": [
    {
     "data": {
      "text/plain": [
       "'Husky'"
      ]
     },
     "execution_count": 36,
     "metadata": {},
     "output_type": "execute_result"
    }
   ],
   "source": [
    "sammy.breed"
   ]
  },
  {
   "cell_type": "code",
   "execution_count": 37,
   "id": "2696a2dc",
   "metadata": {},
   "outputs": [
    {
     "data": {
      "text/plain": [
       "'Sam'"
      ]
     },
     "execution_count": 37,
     "metadata": {},
     "output_type": "execute_result"
    }
   ],
   "source": [
    "sammy.name"
   ]
  },
  {
   "cell_type": "code",
   "execution_count": 38,
   "id": "257dac46",
   "metadata": {},
   "outputs": [
    {
     "data": {
      "text/plain": [
       "5"
      ]
     },
     "execution_count": 38,
     "metadata": {},
     "output_type": "execute_result"
    }
   ],
   "source": [
    "sammy[0]"
   ]
  },
  {
   "cell_type": "code",
   "execution_count": null,
   "id": "f7120605",
   "metadata": {},
   "outputs": [],
   "source": []
  },
  {
   "cell_type": "code",
   "execution_count": null,
   "id": "dff24c60",
   "metadata": {},
   "outputs": [],
   "source": []
  },
  {
   "cell_type": "code",
   "execution_count": null,
   "id": "7e40386f",
   "metadata": {},
   "outputs": [],
   "source": []
  },
  {
   "cell_type": "code",
   "execution_count": null,
   "id": "f3fbf07b",
   "metadata": {},
   "outputs": [],
   "source": []
  },
  {
   "cell_type": "code",
   "execution_count": null,
   "id": "cf461b75",
   "metadata": {},
   "outputs": [],
   "source": []
  },
  {
   "cell_type": "code",
   "execution_count": 1,
   "id": "1e591140",
   "metadata": {},
   "outputs": [],
   "source": []
  },
  {
   "cell_type": "code",
   "execution_count": 2,
   "id": "aecd55d7",
   "metadata": {},
   "outputs": [],
   "source": []
  },
  {
   "cell_type": "code",
   "execution_count": 4,
   "id": "9c3228a9",
   "metadata": {},
   "outputs": [],
   "source": [
    "#INSTAGRAM miguel_codes\n",
    "#COLLECTIONS:\n",
    "from collections import Counter\n",
    "# Use the Counter function from collections to find out\n",
    "# the count of all items in a list."
   ]
  },
  {
   "cell_type": "code",
   "execution_count": 5,
   "id": "66e05b99",
   "metadata": {},
   "outputs": [
    {
     "name": "stdout",
     "output_type": "stream",
     "text": [
      "Counter({1: 4, 2: 3, 20: 2, 13: 2, 50: 2, 10: 1, 11: 1, 23: 1})\n"
     ]
    }
   ],
   "source": [
    "# Example with list of integers\n",
    "my_list = [1,1,1,1,10,11,20,13,50,23,2,2,2,50,13,20]\n",
    "count_list = Counter(my_list)\n",
    "print(count_list)"
   ]
  },
  {
   "cell_type": "code",
   "execution_count": 10,
   "id": "c844c9e6",
   "metadata": {},
   "outputs": [
    {
     "name": "stdout",
     "output_type": "stream",
     "text": [
      "Counter({'Hi': 3, 'hi': 2, 'a': 2, 'B': 2, 'Hello': 1, 'hello': 1, 'b': 1})\n"
     ]
    }
   ],
   "source": [
    "# Example with list of strings/characters\n",
    "# This is case sensitive, though.\n",
    "my_list = ['Hi', \"Hi\", \"hi\", \"Hi\", \"hi\", 'Hello', 'hello','a','a','B','b','B']\n",
    "count_list = Counter(my_list)\n",
    "print(count_list)"
   ]
  },
  {
   "cell_type": "code",
   "execution_count": 12,
   "id": "c99b432d",
   "metadata": {},
   "outputs": [
    {
     "name": "stdout",
     "output_type": "stream",
     "text": [
      "Counter({2: 8, 1: 6, 'Hi': 3, 3: 3, 'hi': 2, 'a': 2, 'B': 2, 50: 1, 100: 1, 101: 1, 'Hello': 1, 'hello': 1, 'b': 1, 4: 1, 12: 1})\n"
     ]
    }
   ],
   "source": [
    "# We can also have integers, strings, and characters mixed up.\n",
    "my_list = ['Hi',50,100,101,2,\"Hi\", \"hi\", \"Hi\", 3,\"hi\", 'Hello', 1,'hello','a','a','B','b','B',1,2,3,4,1,2,3,1,2,2,12,2,2,2,1,1,]\n",
    "count_list = Counter(my_list)\n",
    "print(count_list)"
   ]
  },
  {
   "cell_type": "code",
   "execution_count": 13,
   "id": "210121a5",
   "metadata": {},
   "outputs": [
    {
     "name": "stdout",
     "output_type": "stream",
     "text": [
      "Counter({'how': 1, 'many': 1, 'times': 1, 'does': 1, 'each': 1, 'word': 1, 'show': 1, 'up': 1, 'in': 1, 'this': 1, 'sentence': 1, 'with': 1, 'words': 1})\n"
     ]
    }
   ],
   "source": [
    "# And we could also count how many times a word is found in a string\n",
    "my_sentence = \"How many times does each word show up in this sentence with words\"\n",
    "# For this we use the lower and split method.\n",
    "count_list = Counter(my_sentence.lower().split())\n",
    "print(count_list)"
   ]
  },
  {
   "cell_type": "code",
   "execution_count": 14,
   "id": "b4c671d2",
   "metadata": {},
   "outputs": [
    {
     "name": "stdout",
     "output_type": "stream",
     "text": [
      "['how', 'many', 'times', 'does', 'each', 'word', 'show', 'up', 'in', 'this', 'sentence', 'with', 'words']\n"
     ]
    }
   ],
   "source": [
    "# We can use the returned \"dictionary\" in a list by using the list method.\n",
    "print(list(count_list))"
   ]
  },
  {
   "cell_type": "code",
   "execution_count": null,
   "id": "11b1b2fe",
   "metadata": {},
   "outputs": [],
   "source": [
    "\n",
    "\n",
    "\n",
    "\n",
    "\n"
   ]
  },
  {
   "cell_type": "code",
   "execution_count": 15,
   "id": "1857642f",
   "metadata": {},
   "outputs": [],
   "source": [
    "#INSTAGRAM miguel_codes\n",
    "#COLLECTIONS default dictionary:\n",
    "from collections import defaultdict\n",
    "# Use the defaultdict when you need to populate a dictionary in a loop without rasing a KeyError."
   ]
  },
  {
   "cell_type": "code",
   "execution_count": 17,
   "id": "554c3cf2",
   "metadata": {},
   "outputs": [
    {
     "name": "stdout",
     "output_type": "stream",
     "text": [
      "{'a': 100}\n"
     ]
    }
   ],
   "source": [
    "# Lets say we have a very simple dictionary\n",
    "d = {'a':100}\n",
    "print(d)"
   ]
  },
  {
   "cell_type": "code",
   "execution_count": 18,
   "id": "8da433fc",
   "metadata": {},
   "outputs": [
    {
     "name": "stdout",
     "output_type": "stream",
     "text": [
      "{'a': 100, 'b': 200}\n"
     ]
    }
   ],
   "source": [
    "# We can always add something new to it, by referencing a new key, and giving it a value.\n",
    "d['b'] = 200\n",
    "print(d)"
   ]
  },
  {
   "cell_type": "code",
   "execution_count": 19,
   "id": "7744d5ae",
   "metadata": {},
   "outputs": [],
   "source": [
    "# But what if we decide not to give it a value just yet? \n",
    "# Well, we get a KeyError"
   ]
  },
  {
   "cell_type": "code",
   "execution_count": 20,
   "id": "3ffc8964",
   "metadata": {},
   "outputs": [
    {
     "ename": "KeyError",
     "evalue": "'NEW_KEY'",
     "output_type": "error",
     "traceback": [
      "\u001b[1;31m---------------------------------------------------------------------------\u001b[0m",
      "\u001b[1;31mKeyError\u001b[0m                                  Traceback (most recent call last)",
      "\u001b[1;32m<ipython-input-20-e37d9ddd3c89>\u001b[0m in \u001b[0;36m<module>\u001b[1;34m\u001b[0m\n\u001b[1;32m----> 1\u001b[1;33m \u001b[0md\u001b[0m\u001b[1;33m[\u001b[0m\u001b[1;34m'NEW_KEY'\u001b[0m\u001b[1;33m]\u001b[0m\u001b[1;33m\u001b[0m\u001b[1;33m\u001b[0m\u001b[0m\n\u001b[0m",
      "\u001b[1;31mKeyError\u001b[0m: 'NEW_KEY'"
     ]
    }
   ],
   "source": [
    "d['NEW_KEY']"
   ]
  },
  {
   "cell_type": "code",
   "execution_count": 21,
   "id": "d1e26a86",
   "metadata": {},
   "outputs": [
    {
     "name": "stdout",
     "output_type": "stream",
     "text": [
      "defaultdict(<function <lambda> at 0x0000022D6E5EC9D0>, {'a': 100, 'b': 200})\n"
     ]
    }
   ],
   "source": [
    "# For this, we use a defaultdict\n",
    "# We pass in a lambda expression with our desired default value\n",
    "# In this case, I will do 0 as our default value\n",
    "d = defaultdict(lambda: 0)\n",
    "\n",
    "# We can now create the same simple dictionary\n",
    "d['a'], d['b'] = 100, 200\n",
    "print(d)"
   ]
  },
  {
   "cell_type": "code",
   "execution_count": 22,
   "id": "935fd7c7",
   "metadata": {},
   "outputs": [
    {
     "data": {
      "text/plain": [
       "0"
      ]
     },
     "execution_count": 22,
     "metadata": {},
     "output_type": "execute_result"
    }
   ],
   "source": [
    "# And we can now add a new key with no value without rasing the KeyError flag.\n",
    "d['NEW_KEY']"
   ]
  },
  {
   "cell_type": "code",
   "execution_count": 23,
   "id": "24c2c430",
   "metadata": {},
   "outputs": [
    {
     "name": "stdout",
     "output_type": "stream",
     "text": [
      "defaultdict(<function <lambda> at 0x0000022D6E5EC9D0>, {'a': 100, 'b': 200, 'NEW_KEY': 0})\n"
     ]
    }
   ],
   "source": [
    "#Why 0? Well, remember how I added a lambda expression with the value of 0 above?\n",
    "# That small statement set the value of new_key to 0\n",
    "print(d)"
   ]
  },
  {
   "cell_type": "code",
   "execution_count": null,
   "id": "4c9e9287",
   "metadata": {},
   "outputs": [],
   "source": []
  }
 ],
 "metadata": {
  "kernelspec": {
   "display_name": "Python 3",
   "language": "python",
   "name": "python3"
  },
  "language_info": {
   "codemirror_mode": {
    "name": "ipython",
    "version": 3
   },
   "file_extension": ".py",
   "mimetype": "text/x-python",
   "name": "python",
   "nbconvert_exporter": "python",
   "pygments_lexer": "ipython3",
   "version": "3.8.8"
  }
 },
 "nbformat": 4,
 "nbformat_minor": 5
}
