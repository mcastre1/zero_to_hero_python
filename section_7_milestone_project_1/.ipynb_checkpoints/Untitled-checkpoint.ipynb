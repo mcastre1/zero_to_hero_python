{
 "cells": [
  {
   "cell_type": "code",
   "execution_count": 1,
   "id": "1921d0fd",
   "metadata": {},
   "outputs": [
    {
     "name": "stdout",
     "output_type": "stream",
     "text": [
      "10\n"
     ]
    }
   ],
   "source": [
    "game_board = [\"#\", 'X', 'O', 'X', 'O', 'X', 'O', 'X', 'O', 'X']\n",
    "print(len(game_board))"
   ]
  },
  {
   "cell_type": "code",
   "execution_count": 1,
   "id": "4cf44ee0",
   "metadata": {},
   "outputs": [],
   "source": [
    "def display_board(game_board):\n",
    "    print(\"{} | {} | {}\".format(game_board[7], game_board[8], game_board[9]))\n",
    "    print(\"{} | {} | {}\".format(game_board[4], game_board[5], game_board[6]))\n",
    "    print(\"{} | {} | {}\".format(game_board[1], game_board[2], game_board[3]))"
   ]
  },
  {
   "cell_type": "code",
   "execution_count": 21,
   "id": "86c3b7ef",
   "metadata": {},
   "outputs": [
    {
     "name": "stdout",
     "output_type": "stream",
     "text": [
      "X | O | X\n",
      "O | X | O\n",
      "X | O | X\n"
     ]
    }
   ],
   "source": [
    "display_board(game_board)"
   ]
  },
  {
   "cell_type": "code",
   "execution_count": 2,
   "id": "13b5fb41",
   "metadata": {},
   "outputs": [],
   "source": [
    "def player_input():\n",
    "    \n",
    "    choice = \"wrong\"\n",
    "    choice_in_range = False\n",
    "    acceptable_choice_range = range(0,10)\n",
    "    \n",
    "    while not choice.isdigit() or not choice_in_range:\n",
    "        choice = input(\"Choose a cell (1 - 9) or 0 to exit: \")\n",
    "        \n",
    "        if choice.isdigit():\n",
    "            if int(choice) in acceptable_choice_range:\n",
    "                choice_in_range = True\n",
    "\n",
    "            else:\n",
    "                print(\"Sorry, invalid input! Choose a cell number between 1 and 9.\")\n",
    "        else:\n",
    "            print(\"Sorry, invalid input! Choose a cell number between 1 and 9.\")\n",
    "            \n",
    "    return int(choice)\n"
   ]
  },
  {
   "cell_type": "code",
   "execution_count": 15,
   "id": "174eabb1",
   "metadata": {},
   "outputs": [
    {
     "name": "stdout",
     "output_type": "stream",
     "text": [
      "Choose a cell (1 - 9) or 0 to exit: ss\n",
      "Sorry, invalid input! Choose a cell number between 1 and 9.\n",
      "Choose a cell (1 - 9) or 0 to exit: 1\n"
     ]
    },
    {
     "data": {
      "text/plain": [
       "1"
      ]
     },
     "execution_count": 15,
     "metadata": {},
     "output_type": "execute_result"
    }
   ],
   "source": [
    "player_input()"
   ]
  },
  {
   "cell_type": "code",
   "execution_count": 3,
   "id": "d73c419a",
   "metadata": {},
   "outputs": [],
   "source": [
    "def first_player_symbol_choice():\n",
    "    choice = \"wrong\"\n",
    "    acceptable_choices = ['X', 'O']\n",
    "    \n",
    "    while not choice in acceptable_choices:\n",
    "        choice = input(\"Player 1, which symbol would you like to be? (X or O): \")\n",
    "    \n",
    "    return choice"
   ]
  },
  {
   "cell_type": "code",
   "execution_count": 25,
   "id": "69df49f8",
   "metadata": {},
   "outputs": [
    {
     "name": "stdout",
     "output_type": "stream",
     "text": [
      "Player 1, which symbol would you like to be? (X or O): X\n"
     ]
    },
    {
     "data": {
      "text/plain": [
       "'X'"
      ]
     },
     "execution_count": 25,
     "metadata": {},
     "output_type": "execute_result"
    }
   ],
   "source": [
    "first_player_symbol_choice()"
   ]
  },
  {
   "cell_type": "code",
   "execution_count": 4,
   "id": "497b3db8",
   "metadata": {},
   "outputs": [],
   "source": [
    "def game_on_choice():\n",
    "    choice = \"wrong\"\n",
    "    acceptable_choices = ['Y', 'N']\n",
    "    \n",
    "    while not choice in acceptable_choices:\n",
    "        choice = input(\"Would you like to keep playing? (Y or N)\")\n",
    "        \n",
    "        if choice not in acceptable_choices:\n",
    "            print(\"I'm sorry, wrong choice. Please choose Y or N.\")\n",
    "        else:\n",
    "            if choice == \"Y\":\n",
    "                return True\n",
    "            else:\n",
    "                return False"
   ]
  },
  {
   "cell_type": "code",
   "execution_count": 5,
   "id": "006e30d0",
   "metadata": {},
   "outputs": [],
   "source": [
    "def replace_in_board(game_board, player_input, player_symbol):\n",
    "    game_board[player_input] = player_symbol\n",
    "    return game_board"
   ]
  },
  {
   "cell_type": "code",
   "execution_count": 8,
   "id": "d7ea88e2",
   "metadata": {},
   "outputs": [],
   "source": [
    "def check_game_status(game_board, player_symbol):\n",
    "    if game_board[7] == game_board[8] == game_board[9] == player_symbol or game_board[4] == game_board[5] == game_board[6] == player_symbol or game_board[1] == game_board[2] == game_board[3] == player_symbol or game_board[1] == game_board[4] == game_board[7] == player_symbol or game_board[2] == game_board[5] == game_board[8] == player_symbol or game_board[3] == game_board[6] == game_board[9] == player_symbol or game_board[1] == game_board[5] == game_board[9] == player_symbol or game_board[7] == game_board[5] == game_board[3] == player_symbol:\n",
    "        print(\"Congratulations player {}, you have won!\".format(player_symbol))\n",
    "        display_board(game_board)\n",
    "        return \"LOSE/WIN\"\n",
    "    else:\n",
    "        count = 1\n",
    "        for item in game_board:\n",
    "            if not item == ' ':\n",
    "                count += 1\n",
    "            \n",
    "        print(count)\n",
    "        if count == 11:\n",
    "            clear_output()\n",
    "            display_board(game_board)\n",
    "            print(\"TIE!\")\n",
    "            return \"TIE\"\n",
    "            \n",
    "        \n",
    "    return \"RUNNING\"\n",
    "        \n",
    "        \n",
    "    \n",
    "    "
   ]
  },
  {
   "cell_type": "code",
   "execution_count": 9,
   "id": "0df856b9",
   "metadata": {},
   "outputs": [
    {
     "name": "stdout",
     "output_type": "stream",
     "text": [
      "X |   | O\n",
      "  | X |  \n",
      "O |   |  \n",
      "Choose a cell (1 - 9) or 0 to exit: 3\n",
      "Congratulations player X, you have won!\n",
      "X |   | O\n",
      "  | X |  \n",
      "O |   | X\n",
      "Would you like to keep playing? (Y or N)N\n"
     ]
    }
   ],
   "source": [
    "from IPython.display import clear_output\n",
    "\n",
    "game_board = ['#',' ',' ',' ',' ',' ',' ',' ',' ',' ']\n",
    "game_on = True\n",
    "\n",
    "player_symbol = first_player_symbol_choice()\n",
    "player_input_num = -1\n",
    "\n",
    "# RUNNING, TIE, LOSE/WIN\n",
    "game_status = \"RUNNING\"\n",
    "\n",
    "while game_on:\n",
    "    clear_output()\n",
    "    display_board(game_board)\n",
    "    \n",
    "    player_input_num = player_input()\n",
    "    \n",
    "    if player_input_num == 0:\n",
    "        break\n",
    "    \n",
    "    game_board = replace_in_board(game_board, player_input_num, player_symbol)\n",
    "    \n",
    "    game_status = check_game_status(game_board, player_symbol)\n",
    "    \n",
    "    \n",
    "    if player_symbol == \"X\":\n",
    "        player_symbol = \"O\"\n",
    "    else:\n",
    "        player_symbol = \"X\"\n",
    "    \n",
    "    \n",
    "        \n",
    "    if not game_status == \"RUNNING\":\n",
    "        game_on = game_on_choice()\n",
    "        \n",
    "        if game_on:\n",
    "            game_board = ['#',' ',' ',' ',' ',' ',' ',' ',' ',' ']\n",
    "            player_symbol = first_player_symbol_choice()\n",
    "    "
   ]
  },
  {
   "cell_type": "code",
   "execution_count": null,
   "id": "14b2e139",
   "metadata": {},
   "outputs": [],
   "source": []
  }
 ],
 "metadata": {
  "kernelspec": {
   "display_name": "Python 3",
   "language": "python",
   "name": "python3"
  },
  "language_info": {
   "codemirror_mode": {
    "name": "ipython",
    "version": 3
   },
   "file_extension": ".py",
   "mimetype": "text/x-python",
   "name": "python",
   "nbconvert_exporter": "python",
   "pygments_lexer": "ipython3",
   "version": "3.8.8"
  }
 },
 "nbformat": 4,
 "nbformat_minor": 5
}
