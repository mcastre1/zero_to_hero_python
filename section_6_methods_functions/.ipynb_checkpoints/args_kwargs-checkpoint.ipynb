{
 "cells": [
  {
   "cell_type": "code",
   "execution_count": 1,
   "id": "0df597f7",
   "metadata": {},
   "outputs": [],
   "source": [
    "def myfunc(a, b):\n",
    "    # Returns 5% of the sum of a and b\n",
    "    return sum((a,b)) * 0.05"
   ]
  },
  {
   "cell_type": "code",
   "execution_count": 2,
   "id": "c5065e20",
   "metadata": {},
   "outputs": [
    {
     "data": {
      "text/plain": [
       "5.0"
      ]
     },
     "execution_count": 2,
     "metadata": {},
     "output_type": "execute_result"
    }
   ],
   "source": [
    "myfunc(40,60)"
   ]
  },
  {
   "cell_type": "code",
   "execution_count": 3,
   "id": "281910b2",
   "metadata": {},
   "outputs": [
    {
     "ename": "TypeError",
     "evalue": "'int' object is not iterable",
     "output_type": "error",
     "traceback": [
      "\u001b[1;31m---------------------------------------------------------------------------\u001b[0m",
      "\u001b[1;31mTypeError\u001b[0m                                 Traceback (most recent call last)",
      "\u001b[1;32m<ipython-input-3-6ef38fdd3df6>\u001b[0m in \u001b[0;36m<module>\u001b[1;34m\u001b[0m\n\u001b[1;32m----> 1\u001b[1;33m \u001b[0msum\u001b[0m\u001b[1;33m(\u001b[0m\u001b[1;36m5\u001b[0m\u001b[1;33m,\u001b[0m \u001b[1;36m6\u001b[0m\u001b[1;33m)\u001b[0m\u001b[1;33m\u001b[0m\u001b[1;33m\u001b[0m\u001b[0m\n\u001b[0m",
      "\u001b[1;31mTypeError\u001b[0m: 'int' object is not iterable"
     ]
    }
   ],
   "source": [
    "sum(5, 6)"
   ]
  },
  {
   "cell_type": "code",
   "execution_count": 4,
   "id": "2328a1c7",
   "metadata": {},
   "outputs": [],
   "source": [
    "def myfunc(*args):  # TUPLE\n",
    "    return sum(args) * 0.05"
   ]
  },
  {
   "cell_type": "code",
   "execution_count": 6,
   "id": "a2de3fcd",
   "metadata": {},
   "outputs": [
    {
     "data": {
      "text/plain": [
       "10.0"
      ]
     },
     "execution_count": 6,
     "metadata": {},
     "output_type": "execute_result"
    }
   ],
   "source": [
    "myfunc(10,90,100)"
   ]
  },
  {
   "cell_type": "code",
   "execution_count": 7,
   "id": "7c1c5f1b",
   "metadata": {},
   "outputs": [],
   "source": [
    "def myfunc(**kwargs):       # Dictionary\n",
    "    if 'fruit' in kwargs:\n",
    "        print('My fruit of choice is {}'.format(kwargs['fruit']))\n",
    "    else:\n",
    "        print('I did not find any fruit here')"
   ]
  },
  {
   "cell_type": "code",
   "execution_count": 9,
   "id": "4db06a5c",
   "metadata": {},
   "outputs": [
    {
     "name": "stdout",
     "output_type": "stream",
     "text": [
      "My fruit of choice is apple\n"
     ]
    }
   ],
   "source": [
    "myfunc(fruit='apple', veggie= 'lettuce')"
   ]
  },
  {
   "cell_type": "code",
   "execution_count": 12,
   "id": "51c20a87",
   "metadata": {},
   "outputs": [],
   "source": [
    "def myfunc(*args, **kwargs):\n",
    "    print(args)\n",
    "    print(kwargs)\n",
    "    print('I would like {} {}'.format(args[0], kwargs['food']))"
   ]
  },
  {
   "cell_type": "code",
   "execution_count": 13,
   "id": "57bb7302",
   "metadata": {},
   "outputs": [
    {
     "name": "stdout",
     "output_type": "stream",
     "text": [
      "(10, 20, 30)\n",
      "{'fruid': 'orange', 'food': 'eggs', 'animal': 'dog'}\n",
      "I would like 10 eggs\n"
     ]
    }
   ],
   "source": [
    "myfunc(10,20,30,fruid = 'orange', food = 'eggs', animal = 'dog')"
   ]
  },
  {
   "cell_type": "code",
   "execution_count": null,
   "id": "d2e84201",
   "metadata": {},
   "outputs": [],
   "source": [
    "\n",
    "\n",
    "\n"
   ]
  },
  {
   "cell_type": "code",
   "execution_count": 29,
   "id": "4698ba13",
   "metadata": {},
   "outputs": [],
   "source": [
    "# functions #10 skyline\n",
    "\n",
    "def myfunc(string):\n",
    "    new_string = \"\"\n",
    "    for n in range(len(string)):\n",
    "        if (n+1) % 2 == 0:\n",
    "            new_string = new_string + string[n].upper()\n",
    "        else:\n",
    "            new_string = new_string + string[n].lower()\n",
    "            \n",
    "    return new_string"
   ]
  },
  {
   "cell_type": "code",
   "execution_count": 30,
   "id": "883e3715",
   "metadata": {},
   "outputs": [
    {
     "name": "stdout",
     "output_type": "stream",
     "text": [
      "aNtHrOpOmOrPhIsM\n"
     ]
    }
   ],
   "source": [
    "print(myfunc(\"anthropomorphism\"))"
   ]
  },
  {
   "cell_type": "code",
   "execution_count": null,
   "id": "666e50f8",
   "metadata": {},
   "outputs": [],
   "source": []
  }
 ],
 "metadata": {
  "kernelspec": {
   "display_name": "Python 3",
   "language": "python",
   "name": "python3"
  },
  "language_info": {
   "codemirror_mode": {
    "name": "ipython",
    "version": 3
   },
   "file_extension": ".py",
   "mimetype": "text/x-python",
   "name": "python",
   "nbconvert_exporter": "python",
   "pygments_lexer": "ipython3",
   "version": "3.8.8"
  }
 },
 "nbformat": 4,
 "nbformat_minor": 5
}
